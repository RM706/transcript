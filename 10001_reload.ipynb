{
 "cells": [
  {
   "cell_type": "code",
   "execution_count": 1,
   "metadata": {},
   "outputs": [],
   "source": [
    "import pandas\n",
    "import gzip\n",
    "import time\n",
    "import argparse\n",
    "import pickle\n",
    "from Class import *\n",
    "import function"
   ]
  },
  {
   "cell_type": "code",
   "execution_count": 2,
   "metadata": {},
   "outputs": [],
   "source": [
    "__version__ = \"V1.0(Editor) 2023-10-11\""
   ]
  },
  {
   "cell_type": "code",
   "execution_count": 3,
   "metadata": {},
   "outputs": [],
   "source": [
    "# 前置参数-debug\n",
    "COUNTSCUTOFF = 2\n",
    "ABSOLUTEPATH = False\n",
    "FILEPATH = \"F:/OneDrive/Master/Project/trans/data/\"\n",
    "RAWDATAPATH = \"raw_data/\"\n",
    "INPUTSAMPLEINFO = \"0000_sample_info.tsv\"\n",
    "INPUTREFANNOTATION = \"Homo_sapiens.GRCh38.109.chr.gtf.gz\"\n",
    "OUTPUTTOTAL = \"10001_total.pkl\""
   ]
  },
  {
   "cell_type": "code",
   "execution_count": null,
   "metadata": {},
   "outputs": [],
   "source": [
    "# 前置参数\n",
    "parser = argparse.ArgumentParser()\n",
    "parser.add_argument(\"--COUNTSCUTOFF\", dest=\"COUNTSCUTOFF\", required=False, type=int, default=2, help=\"only analysis the transcript that counts >= this value\")\n",
    "parser.add_argument(\"--ABSOLUTEPATH\", dest=\"ABSOLUTEPATH\", required=False, action=\"store_true\", help=\"use the absolute path\")\n",
    "parser.add_argument(\"--FILEPATH\", dest=\"FILEPATH\", required=False, type=str, default=\"\", help=\"the path of data file\")\n",
    "parser.add_argument(\"--RAWDATAPATH\", dest=\"RAWDATAPATH\", required=False, type=str, default=\"raw_data/\", help=\"=raw_data/\")\n",
    "parser.add_argument(\"--INPUTSAMPLEINFO\", dest=\"INPUTSAMPLEINFO\", required=False, type=str, default=\"0000_sample_info.tsv\", help=\"=0000_sample_info.tsv\")\n",
    "parser.add_argument(\"--INPUTREFANNOTATION\", dest=\"INPUTREFANNOTATION\", required=False, type=str, default=\"Homo_sapiens.GRCh38.109.chr.gtf.gz\", help=\"=Homo_sapiens.GRCh38.109.chr.gtf.gz, the ref annotation file\")\n",
    "parser.add_argument(\"--OUTPUTTOTAL\", dest=\"OUTPUTTOTAL\", required=False, type=str, default=\"10001_total.pkl\", help=\"=10001_total.pkl\")\n",
    "\n",
    "args = parser.parse_args()\n",
    "COUNTSCUTOFF = args.COUNTSCUTOFF\n",
    "ABSOLUTEPATH = args.ABSOLUTEPATH\n",
    "FILEPATH = args.FILEPATH\n",
    "RAWDATAPATH = args.RAWDATAPATH\n",
    "INPUTSAMPLEINFO = args.INPUTSAMPLEINFO\n",
    "INPUTREFANNOTATION = args.INPUTREFANNOTATION\n",
    "OUTPUTTOTAL = args.OUTPUTTOTAL"
   ]
  },
  {
   "cell_type": "code",
   "execution_count": 4,
   "metadata": {},
   "outputs": [],
   "source": [
    "# 后置参数\n",
    "chrList = [\"chr{}\".format(i) for i in range(1, 22+1)]\n",
    "chrList.append(\"chrX\")\n",
    "chrList.append(\"chrY\")\n",
    "chrList.append(\"chrM\")"
   ]
  },
  {
   "cell_type": "code",
   "execution_count": 5,
   "metadata": {},
   "outputs": [],
   "source": [
    "# 补全路径\n",
    "if ABSOLUTEPATH == False:\n",
    "    RAWDATAPATH = \"{}{}\".format(FILEPATH, RAWDATAPATH)\n",
    "    INPUTSAMPLEINFO = \"{}{}\".format(FILEPATH, INPUTSAMPLEINFO)\n",
    "    INPUTREFANNOTATION = \"{}annotation/{}\".format(RAWDATAPATH, INPUTREFANNOTATION)\n",
    "    OUTPUTTOTAL = \"{}{}\".format(FILEPATH, OUTPUTTOTAL)"
   ]
  },
  {
   "cell_type": "code",
   "execution_count": null,
   "metadata": {},
   "outputs": [],
   "source": [
    "# 打印参数\n",
    "print('\\n')\n",
    "print(\"[Date]{}\".format(time.strftime(\"%Y-%m-%d %H:%M:%S\", time.localtime(time.time()))))\n",
    "print(\"[Script]{}\\t{}\".format(__file__, __version__))\n",
    "print(\"[Version]function.py\\t{}\".format(function.__functionVersion__))\n",
    "print(\"[Version]Class.py\\t{}\".format(classVersion))\n",
    "print(\"[Parament]COUNTSCUTOFF: {}\".format(COUNTSCUTOFF))\n",
    "print(\"[Parament]chrList: {}\".format(\", \".join(chrList)))\n",
    "print(\"[Parament]INPUTSAMPLEINFO: {}\".format(INPUTSAMPLEINFO))\n",
    "print(\"[Parament]INPUTREFANNOTATION: {}\".format(INPUTREFANNOTATION))\n",
    "print(\"[Parament]OUTPUTTOTAL: {}\".format(OUTPUTTOTAL))\n",
    "print('\\n')"
   ]
  },
  {
   "cell_type": "code",
   "execution_count": 6,
   "metadata": {},
   "outputs": [],
   "source": [
    "# main\n",
    "def main():\n",
    "    # load data\n",
    "    sampleInfo = pandas.read_csv(INPUTSAMPLEINFO, sep='\\t')\n",
    "\n",
    "    # 获取sample所属的cellline\n",
    "    sampleCellline = sampleInfo.set_index(\"GEO_accession\")[\"cell_line\"].to_dict()\n",
    "    # 获取每个sample的annotation及quantificatoin文件位置\n",
    "    sampleList = sampleInfo[\"GEO_accession\"].to_list()\n",
    "    sampleFilePath = function.get_file_path(dataPath=RAWDATAPATH, sampleNameList=sampleList)\n",
    "\n",
    "    # 准备存储gene信息\n",
    "    total = Total()\n",
    "\n",
    "    # 读取所有样本的数据\n",
    "    total = function.loadData(total=total, sampleCellline=sampleCellline, sampleFilePath=sampleFilePath, cutoff=COUNTSCUTOFF, chrList=chrList)\n",
    "\n",
    "    # 保存total\n",
    "    with open(OUTPUTTOTAL, \"wb\") as file:\n",
    "        pickle.dump(total, file)"
   ]
  },
  {
   "cell_type": "code",
   "execution_count": 7,
   "metadata": {},
   "outputs": [
    {
     "name": "stdout",
     "output_type": "stream",
     "text": [
      "\t[Progress]2/2\r"
     ]
    }
   ],
   "source": [
    "if __name__ == \"__main__\":\n",
    "    main()"
   ]
  },
  {
   "cell_type": "markdown",
   "metadata": {},
   "source": [
    "---\n",
    "\n",
    "start"
   ]
  },
  {
   "cell_type": "code",
   "execution_count": null,
   "metadata": {},
   "outputs": [],
   "source": []
  },
  {
   "cell_type": "code",
   "execution_count": null,
   "metadata": {},
   "outputs": [],
   "source": []
  },
  {
   "cell_type": "markdown",
   "metadata": {},
   "source": [
    "end\n",
    "\n",
    "---"
   ]
  }
 ],
 "metadata": {
  "kernelspec": {
   "display_name": "Python 3",
   "language": "python",
   "name": "python3"
  },
  "language_info": {
   "codemirror_mode": {
    "name": "ipython",
    "version": 3
   },
   "file_extension": ".py",
   "mimetype": "text/x-python",
   "name": "python",
   "nbconvert_exporter": "python",
   "pygments_lexer": "ipython3",
   "version": "3.10.6"
  }
 },
 "nbformat": 4,
 "nbformat_minor": 2
}
