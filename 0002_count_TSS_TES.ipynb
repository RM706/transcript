{
 "cells": [
  {
   "cell_type": "code",
   "execution_count": 1,
   "metadata": {},
   "outputs": [],
   "source": [
    "import pandas\n",
    "import re\n",
    "import argparse\n",
    "import time"
   ]
  },
  {
   "cell_type": "code",
   "execution_count": 9,
   "metadata": {},
   "outputs": [],
   "source": [
    "__version__ = \"V1.2(Editor) 2023-07-12\""
   ]
  },
  {
   "cell_type": "code",
   "execution_count": 2,
   "metadata": {},
   "outputs": [],
   "source": [
    "# 前置参数-debug\n",
    "absolute_path = False\n",
    "file_path = \"F:/OneDrive/Master/Project/trans/data/\"\n",
    "input_sample_info_filename = \"0000_sample_info.tsv\"\n",
    "input_df_filename = \"0001_total_info.tsv\"\n",
    "output_df_filename = \"0002_TSS_TES.tsv\""
   ]
  },
  {
   "cell_type": "code",
   "execution_count": 10,
   "metadata": {},
   "outputs": [
    {
     "ename": "SyntaxError",
     "evalue": "invalid syntax (2254374255.py, line 3)",
     "output_type": "error",
     "traceback": [
      "\u001b[1;36m  Input \u001b[1;32mIn [10]\u001b[1;36m\u001b[0m\n\u001b[1;33m    parser.add_argument(\"--\", dest=, required=, type=, default=, help=\"\")\u001b[0m\n\u001b[1;37m                                   ^\u001b[0m\n\u001b[1;31mSyntaxError\u001b[0m\u001b[1;31m:\u001b[0m invalid syntax\n"
     ]
    }
   ],
   "source": [
    "# 前置参数\n",
    "parser = argparse.ArgumentParser()\n",
    "parser.add_argument(\"--absolute_path\", dest=\"absolute_path\", required=False, action=\"store_true\", help=\"use absolute file path\")\n",
    "parser.add_argument(\"--file_path\", dest=\"file_path\", required=False, type=str, default=\"./\", help=\"=\\\"./\\\",\\t the path of data directory, the end of this parament should be '/'\")\n",
    "parser.add_argument(\"--input_sample_info_filename\", dest=\"input_sample_info_filename\", required=False, type=str, default=\"0000_sample_info.tsv\", help=\"=\\\"0000_sample_info.tsv\\\",\\t the sample info file\")\n",
    "parser.add_argument(\"--input_df_filename\", dest=\"input_df_filename\", required=False, type=str, default=\"0001_total_info.tsv\", help=\"\\\"0001_total_info.tsv\\\",\\t the output tsv file of 0001.py\")\n",
    "parser.add_argument(\"--output_df_filename\", dest=\"output_df_filename\", required=False, type=str, default=\"0002_TSS_TES.tsv\", help=\"\\\"0002_TSS_TES.tsv\\\",\\t the output filename of this script\")\n",
    "\n",
    "args = parser.parse_args()\n",
    "absolute_path = args.absolute_path\n",
    "file_path = args.file_path\n",
    "input_sample_info_filename = args.input_sample_info_filename\n",
    "input_df_filename = args.input_df_filename\n",
    "output_df_filename = args.output_df_filename"
   ]
  },
  {
   "cell_type": "code",
   "execution_count": 3,
   "metadata": {},
   "outputs": [],
   "source": [
    "# 补全路径\n",
    "if absolute_path is False:\n",
    "    input_sample_info_filename = \"{}{}\".format(file_path, input_sample_info_filename)\n",
    "    input_df_filename = \"{}{}\".format(file_path, input_df_filename)\n",
    "    output_df_filename = \"{}{}\".format(file_path, output_df_filename)"
   ]
  },
  {
   "cell_type": "code",
   "execution_count": null,
   "metadata": {},
   "outputs": [],
   "source": [
    "# 打印参数\n",
    "print('\\n')\n",
    "print(\"[Script]{}\".format(__file__))\n",
    "print(\"[Version]{}\".format(__version__))\n",
    "print(\"[Date]{}\".format(time.strftime(\"%Y-%m-%d %H:%M:%S\", time.localtime(time.time()))))\n",
    "print(\"[Paraments]input_sample_info_filename: {}\".format(input_sample_info_filename))\n",
    "print(\"[Paraments]input_df_filename: {}\".format(input_df_filename))\n",
    "print(\"[Paraments]output_df_filename: {}\".format(output_df_filename))\n",
    "print('\\n')"
   ]
  },
  {
   "cell_type": "code",
   "execution_count": 4,
   "metadata": {},
   "outputs": [],
   "source": [
    "# Function\n",
    "def log(function):\n",
    "    def wrapper(*args, **kwargs):\n",
    "        print('\\n')\n",
    "        print(\"[Function]{} start.\".format(function.__name__))\n",
    "        print(\"\\t[Time]{}\".format(time.strftime(\"%Y-%m-%d %H:%M:%S\", time.localtime(time.time()))))\n",
    "        for key, value in kwargs.items():\n",
    "            if type(value) in [int, str, bool, list]:\n",
    "                print(\"\\t[Paraments]{}: {}\".format(key, value))\n",
    "            else:\n",
    "                print(\"\\t[Paraments]{}: <...>\".format(key))\n",
    "        result = function(*args, **kwargs)\n",
    "        print(\"[{}]{} finished.\".format(time.strftime(\"%Y-%m-%d %H:%M:%S\", time.localtime(time.time())),\n",
    "                                        function.__name__))\n",
    "        return result\n",
    "    return wrapper\n",
    "\n",
    "\n",
    "@log\n",
    "def get_disease_sample_info(df, disease, sample_disease_list):\n",
    "    \"\"\"\n",
    "    input:\n",
    "        df, pandas.DataFrame, 含有所有sample的df\n",
    "        disease, str, 疾病类型\n",
    "        sample_disease_list, list, # 属于指定类型疾病的样本名\n",
    "    change:\n",
    "        统计同一类型疾病中的四种类型gene的gene数及transcript数\n",
    "    output:\n",
    "        result, dict, 含有在指定疾病类型中表达的transcript的信息(4种类型的gene及transcript数量)\n",
    "    \"\"\"\n",
    "    df = df\n",
    "    disease = disease\n",
    "    sample_disease_list = sample_disease_list\n",
    "\n",
    "    result = {disease:{\"TSS_PAS@gene\": 0, \"TSS_PAS@transcript\": 0,\n",
    "                       \"TSS_APA@gene\": 0, \"TSS_APA@transcript\": 0,\n",
    "                       \"ATSS_PAS@gene\": 0, \"ATSS_PAS@transcript\": 0,\n",
    "                       \"ATSS_APA@gene\": 0, \"ATSS_APA@transcript\": 0\n",
    "                       }\n",
    "              }\n",
    "\n",
    "    # 筛选得到在同一种疾病类型中存在表达的transcript\n",
    "    disease_columns = [\"chr\", \"strand\", \"gene_id\", \"gene_name\", \"transcript_id\",\n",
    "                       \"transcript_name\", \"transcript_start\", \"transcript_end\"]\n",
    "    disease_columns = disease_columns + sample_disease_list\n",
    "    # 过滤掉在指定疾病类型疾病样本中均未表达的transcript\n",
    "    disease_df = df[disease_columns].copy()\n",
    "    disease_df[sample_disease_list] = disease_df[sample_disease_list].applymap(lambda x: None if x==0 else x)\n",
    "    disease_df = disease_df.dropna(subset=sample_disease_list, axis=0, how=\"all\")\n",
    "\n",
    "    # 开始整理统计信息表\n",
    "    disease_sample_info = []\n",
    "    disease_df_group = disease_df.groupby(\"gene_id\")\n",
    "    for gene_id in disease_df_group.groups.keys():\n",
    "        # 获得单个基因的所有转录本信息\n",
    "        temp_df = disease_df_group.get_group(gene_id)\n",
    "        transcript_num = temp_df.shape[0]  # 该gene所具有的transcript的种类数\n",
    "        strand = list(set(temp_df[\"strand\"].to_list()))  # 该gene的链的+/-方向\n",
    "        # 根据strad对起始点及终止点的数量进行统计\n",
    "        if len(strand) == 1 and strand[0] == '-':\n",
    "            # 负链\n",
    "            num_end = len(set(temp_df[\"transcript_start\"].to_list()))\n",
    "            num_start = len(set(temp_df[\"transcript_end\"].to_list()))\n",
    "            strand = strand[0]\n",
    "        elif len(strand) == 1 and strand[0] == '+':\n",
    "            # 正链\n",
    "            num_start = len(set(temp_df[\"transcript_start\"].to_list()))\n",
    "            num_end = len(set(temp_df[\"transcript_end\"].to_list()))\n",
    "            strand = strand[0]\n",
    "        else:\n",
    "            raise KeyError(\"[错误]strand: {}\".format(strand))\n",
    "        disease_sample_info.append([gene_id, strand, num_start, num_end, transcript_num])\n",
    "    disease_sample_info = pandas.DataFrame(disease_sample_info)  # from list to pandas.DataFrame\n",
    "    # modify the name of the df's columns\n",
    "    new_columns = disease_sample_info.columns.to_list()\n",
    "    new_columns = dict(zip(new_columns, [\"gene_id\", \"strand\", \"start_counts\", \"end_counts\", \"transcript_counts\"]))\n",
    "    disease_sample_info = disease_sample_info.rename(columns=new_columns)\n",
    "    disease_sample_info = disease_sample_info.set_index(\"gene_id\")\n",
    "\n",
    "    # 根据统计信息表保存统计数据\n",
    "    ## 统计四种类型的gene的gene及transcript数量\n",
    "    TSS_PAS = disease_sample_info.query(\"start_counts==1 & end_counts==1\")\n",
    "    TSS_APA = disease_sample_info.query(\"start_counts==1 & end_counts>1\")\n",
    "    ATSS_PAS = disease_sample_info.query(\"start_counts>1 & end_counts==1\")\n",
    "    ATSS_APA = disease_sample_info.query(\"start_counts>1 & end_counts>1\")\n",
    "    result[disease][\"TSS_PAS@gene\"] = TSS_PAS.shape[0]\n",
    "    result[disease][\"TSS_APA@gene\"] = TSS_APA.shape[0]\n",
    "    result[disease][\"ATSS_PAS@gene\"] = ATSS_PAS.shape[0]\n",
    "    result[disease][\"ATSS_APA@gene\"] = ATSS_APA.shape[0]\n",
    "    result[disease][\"TSS_PAS@transcript\"] = TSS_PAS[\"transcript_counts\"].sum()\n",
    "    result[disease][\"TSS_APA@transcript\"] = TSS_APA[\"transcript_counts\"].sum()\n",
    "    result[disease][\"ATSS_PAS@transcript\"] = ATSS_PAS[\"transcript_counts\"].sum()\n",
    "    result[disease][\"ATSS_APA@transcript\"] = ATSS_APA[\"transcript_counts\"].sum()\n",
    "\n",
    "    return result"
   ]
  },
  {
   "cell_type": "code",
   "execution_count": 5,
   "metadata": {},
   "outputs": [],
   "source": [
    "# 读取数据\n",
    "sample_info = pandas.read_csv(input_sample_info_filename, sep='\\t')\n",
    "sample_info[\"disease\"] = sample_info[\"disease\"].map(lambda x: x.replace(' ', '_'))\n",
    "sample_df = pandas.read_csv(input_df_filename, sep='\\t', index_col=0)"
   ]
  },
  {
   "cell_type": "code",
   "execution_count": 6,
   "metadata": {},
   "outputs": [],
   "source": [
    "# 建立疾病类型与样本的关系\n",
    "disease_dict = {}  # {<disease_1>: [<sample_1>], <disease_2>: [<sample_2>, <sample_3, ...>], ...}\n",
    "sample_info_group = sample_info.groupby(\"disease\")\n",
    "for disease in sample_info_group.groups.keys():\n",
    "    disease_dict[disease] = sample_info_group.get_group(disease)[\"GEO_accession\"].to_list()"
   ]
  },
  {
   "cell_type": "code",
   "execution_count": 7,
   "metadata": {},
   "outputs": [],
   "source": [
    "# 准备统计信息表\n",
    "df_index = [\"{}_{}\".format(disease, x) for disease in disease_dict.keys() for x in [\"gene\", \"transcript\"]]\n",
    "df_index = [\"all_gene\", \"all_transcript\"] + df_index\n",
    "df = pandas.DataFrame(index=df_index,\n",
    "                      columns=[\"TSS_PAS\", \"TSS_APA\", \"ATSS_PAS\", \"ATSS_APA\"])\n",
    "\n",
    "# 统计信息\n",
    "df_info = get_disease_sample_info(df=sample_df,\n",
    "                                  disease=\"all\",\n",
    "                                  sample_disease_list=sample_info[\"GEO_accession\"].to_list())\n",
    "for disease in disease_dict.keys():\n",
    "    disease_sample_list = disease_dict.get(disease)\n",
    "    temp_dict = get_disease_sample_info(df=sample_df,\n",
    "                                        disease=disease,\n",
    "                                        sample_disease_list=disease_sample_list)\n",
    "    df_info.update(temp_dict)\n",
    "\n",
    "# add info to df\n",
    "for disease in df_info:\n",
    "    temp_disease_info = df_info.get(disease)\n",
    "    for key, counts in temp_disease_info.items():\n",
    "        [gene_type,g_or_t] = re.split(pattern=\"@\", string=key)\n",
    "        counts_index = \"{}_{}\".format(disease, g_or_t)\n",
    "        counts_column = gene_type\n",
    "        df.at[counts_index, counts_column] = counts"
   ]
  },
  {
   "cell_type": "code",
   "execution_count": 8,
   "metadata": {},
   "outputs": [],
   "source": [
    "# save data\n",
    "df.to_csv(output_df_filename, sep='\\t')"
   ]
  },
  {
   "cell_type": "code",
   "execution_count": null,
   "metadata": {},
   "outputs": [],
   "source": [
    "# output end\n",
    "print(\"[{}]All blocks finished.\".format(time.strftime(\"%Y-%m-%d %H:%M:%S\", time.localtime(time.time()))))"
   ]
  }
 ],
 "metadata": {
  "kernelspec": {
   "display_name": "Python 3",
   "language": "python",
   "name": "python3"
  },
  "language_info": {
   "codemirror_mode": {
    "name": "ipython",
    "version": 3
   },
   "file_extension": ".py",
   "mimetype": "text/x-python",
   "name": "python",
   "nbconvert_exporter": "python",
   "pygments_lexer": "ipython3",
   "version": "3.10.6"
  },
  "orig_nbformat": 4
 },
 "nbformat": 4,
 "nbformat_minor": 2
}
