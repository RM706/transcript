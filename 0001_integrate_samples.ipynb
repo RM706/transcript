{
 "cells": [
  {
   "cell_type": "code",
   "execution_count": 11,
   "metadata": {},
   "outputs": [],
   "source": [
    "import os\n",
    "import pandas\n",
    "import argparse\n",
    "import time\n",
    "import re\n",
    "import pickle\n",
    "import def_function\n",
    "from def_class import *"
   ]
  },
  {
   "cell_type": "code",
   "execution_count": 13,
   "metadata": {},
   "outputs": [],
   "source": [
    "__version__ = \"V3.4(Editor) 2023-08-07\""
   ]
  },
  {
   "cell_type": "code",
   "execution_count": 15,
   "metadata": {},
   "outputs": [],
   "source": [
    "# 前置参数-debug\n",
    "counts_cutoff = 2\n",
    "\n",
    "annotation_col = [\"gene_id\", \"transcript_id\", \"gene_name\"]\n",
    "quantification_col = [\"annot_gene_id\", \"annot_transcript_id\",\"annot_transcript_name\"]\n",
    "\n",
    "absolute_path = False\n",
    "file_path = \"F:/OneDrive/Master/Project/trans/data/\"\n",
    "input_sample_info = \"0000_sample_info.tsv\"\n",
    "input_gene_annotation_file = \"Homo_sapiens.GRCh38.109.gtf.gz\"\n",
    "output_df_filename = \"0001_total_info.tsv\"\n",
    "output_pickle_filename = \"0001_total_info.pickle\""
   ]
  },
  {
   "cell_type": "code",
   "execution_count": null,
   "metadata": {},
   "outputs": [],
   "source": [
    "# 前置参数\n",
    "parser = argparse.ArgumentParser()\n",
    "parser.add_argument(\"--counts_cutoff\", dest=\"counts_cutoff\", required=False, type=int, default=2, help=\"=2,\\t the cutoff_value of transcript in quantification file\")\n",
    "parser.add_argument(\"--annotation_col\", dest=\"annotation_col\", required=False, type=str, default=[\"gene_id\", \"transcript_id\", \"gene_name\"], nargs=\"*\", help=\"=[\\\"gene_id\\\", \\\"transcript_id\\\", \\\"gene_name\\\"],\\t selected columns of annotation file\")\n",
    "parser.add_argument(\"--quantification_col\", dest=\"quantification_col\", required=False, type=str, default=[\"annot_gene_id\", \"annot_transcript_id\",\"annot_transcript_name\"], nargs=\"*\", help=\"=[\\\"annot_gene_id\\\", \\\"annot_transcript_id\\\",\\\"annot_transcript_name\\\"],\\t selected columns of quantification file\")\n",
    "parser.add_argument(\"--absolute_path\", dest=\"absolute_path\", required=False, action=\"store_true\", default=False, help=\"use absolute path\")\n",
    "parser.add_argument(\"--file_path\", dest=\"file_path\", required=False, type=str, default=\"./\", help=\"the dir of data, if absolute_path is False\")\n",
    "parser.add_argument(\"--input_sample_info\", dest=\"input_sample_info\", required=False, type=str, default=\"0000_sample_info.tsv\", help=\"=0000_sample_info.tsv,\\t the info file of input sample\")\n",
    "parser.add_argument(\"--input_gene_annotation_file\", dest=\"input_gene_annotation_file\", required=False, type=str, default=\"Homo_sapiens.GRCh38.109.gtf.gz\", help=\"\\\"Homo_sapiens.GRCh38.109.gtf.gz\\\",\\t genome annotation file path\")\n",
    "parser.add_argument(\"--output_df_filename\", dest=\"output_df_filename\", required=False, type=str, default=\"0001_total_info.tsv\", help=\"=,\\t the output df file of samples\")\n",
    "parser.add_argument(\"--output_pickle_filename\", dest=\"output_pickle_filename\", required=False, type=str, default=\"0001_total_info.pickle\", help=\"=,\\t the output pickle file of samples\")\n",
    "\n",
    "args = parser.parse_args()\n",
    "counts_cutoff = args.counts_cutoff\n",
    "annotation_col = args.annotation_col\n",
    "quantification_col = args.quantification_col\n",
    "absolute_path = args.absolute_path\n",
    "file_path = args.file_path\n",
    "input_sample_info = args.input_sample_info\n",
    "input_gene_annotation_file = args.input_gene_annotation_file\n",
    "output_df_filename = args.output_df_filename\n",
    "output_pickle_filename = args.output_pickle_filename"
   ]
  },
  {
   "cell_type": "code",
   "execution_count": 16,
   "metadata": {},
   "outputs": [],
   "source": [
    "# 补全路径\n",
    "if absolute_path == False:\n",
    "    input_sample_info = \"{}{}\".format(file_path, input_sample_info)\n",
    "    input_gene_annotation_file = \"{}raw_data/annotation/{}\".format(file_path, input_gene_annotation_file)\n",
    "    output_df_filename = \"{}{}\".format(file_path, output_df_filename)\n",
    "    output_pickle_filename = \"{}{}\".format(file_path, output_pickle_filename)"
   ]
  },
  {
   "cell_type": "code",
   "execution_count": 17,
   "metadata": {},
   "outputs": [],
   "source": [
    "# 后置参数\n",
    "# 获取样本名\n",
    "sample_info = pandas.read_csv(input_sample_info, sep='\\t')\n",
    "sample_name_list = sample_info[\"GEO_accession\"].to_list()"
   ]
  },
  {
   "cell_type": "code",
   "execution_count": null,
   "metadata": {},
   "outputs": [],
   "source": [
    "# 打印参数\n",
    "print('\\n')\n",
    "print(\"[Date]{}\".format(time.strftime(\"%Y-%m-%d %H:%M:%S\", time.localtime(time.time()))))\n",
    "print(\"[Script]script: {}\".format(__file__))\n",
    "print(\"[Version]script: {}\".format(__version__))\n",
    "print(\"[Version]class: {}\".format(class_version))\n",
    "print(\"[Version]function: {}\".format(def_function.__version__))\n",
    "print(\"[Paraments]counts_cutoff: {}\".format(counts_cutoff))\n",
    "print(\"[Paraments]annotation_col: {}\".format(annotation_col))\n",
    "print(\"[Paraments]quantification_col: {}\".format(quantification_col))\n",
    "print(\"[Paraments]input_sample_info: {}\".format(input_sample_info))\n",
    "print(\"[Paraments]input_gene_annotation_file: {}\".format(input_gene_annotation_file))\n",
    "print(\"[Paraments]sample_name_list: {}\".format(sample_name_list))\n",
    "print(\"[Paraments]output_df_filename: {}\".format(output_df_filename))\n",
    "print(\"[Paraments]output_pickle_filename: {}\".format(output_pickle_filename))\n",
    "print('\\n')"
   ]
  },
  {
   "cell_type": "code",
   "execution_count": 18,
   "metadata": {},
   "outputs": [],
   "source": [
    "# 准备input文件的绝对路径\n",
    "file_path = def_function.get_file_path(file_path=file_path,\n",
    "                                       sample_name_list=sample_name_list,\n",
    "                                       tab_level=0)"
   ]
  },
  {
   "cell_type": "code",
   "execution_count": 19,
   "metadata": {},
   "outputs": [],
   "source": [
    "# 准备存储gene信息\n",
    "total = Total(sample_list=[], gene_dict={})"
   ]
  },
  {
   "cell_type": "code",
   "execution_count": 20,
   "metadata": {},
   "outputs": [
    {
     "name": "stdout",
     "output_type": "stream",
     "text": [
      "\n",
      "\n",
      "[Function]load_sample start.\n",
      "\t[Time]2023-08-07 14:58:09\n",
      "\t[Paraments]sample_name: GSM6783527\n",
      "\t[Paraments]annotation_location: F:/OneDrive/Master/Project/trans/data/raw_data/GSM6783527/GSM6783527_ENCFF384PHN_transcriptome_annotations_GRCh38.gtf\n",
      "\t[Paraments]quantification_location: F:/OneDrive/Master/Project/trans/data/raw_data/GSM6783527/GSM6783527_ENCFF816TJN_transcript_quantifications_GRCh38.tsv\n",
      "\t[Paraments]counts_cutoff: 2\n",
      "\t[Paraments]annotation_col: ['gene_id', 'transcript_id', 'gene_name']\n",
      "\t[Paraments]quantification_col: ['annot_gene_id', 'annot_transcript_id', 'annot_transcript_name']\n",
      "\t[Paraments]tab_level: 0\n",
      "[2023-08-07 14:59:17]load_sample finished.\n",
      "\n",
      "\n",
      "[Function]load_sample start.\n",
      "\t[Time]2023-08-07 14:59:17\n",
      "\t[Paraments]sample_name: GSM6782551\n",
      "\t[Paraments]annotation_location: F:/OneDrive/Master/Project/trans/data/raw_data/GSM6782551/GSM6782551_ENCFF856FNN_transcriptome_annotations_GRCh38.gtf\n",
      "\t[Paraments]quantification_location: F:/OneDrive/Master/Project/trans/data/raw_data/GSM6782551/GSM6782551_ENCFF217QQW_transcript_quantifications_GRCh38.tsv\n",
      "\t[Paraments]counts_cutoff: 2\n",
      "\t[Paraments]annotation_col: ['gene_id', 'transcript_id', 'gene_name']\n",
      "\t[Paraments]quantification_col: ['annot_gene_id', 'annot_transcript_id', 'annot_transcript_name']\n",
      "\t[Paraments]tab_level: 0\n",
      "[2023-08-07 15:00:38]load_sample finished.\n"
     ]
    }
   ],
   "source": [
    "# 读取每个样本的数据\n",
    "for sample_name in sample_name_list:\n",
    "    quantification_file_location = file_path[sample_name][\"quantification\"]\n",
    "    annotation_file_location = file_path[sample_name][\"annotation\"]\n",
    "\n",
    "    total = def_function.load_sample(total,\n",
    "                                     sample_name=sample_name,\n",
    "                                     annotation_location=annotation_file_location,\n",
    "                                     quantification_location=quantification_file_location,\n",
    "                                     counts_cutoff=counts_cutoff,\n",
    "                                     annotation_col=annotation_col,\n",
    "                                     quantification_col=quantification_col,\n",
    "                                     tab_level=0)"
   ]
  },
  {
   "cell_type": "code",
   "execution_count": 21,
   "metadata": {},
   "outputs": [
    {
     "name": "stdout",
     "output_type": "stream",
     "text": [
      "\n",
      "\n",
      "[Function]get_biotype_info start.\n",
      "\t[Time]2023-08-07 15:00:38\n",
      "\t[Paraments]annotation_file_location: F:/OneDrive/Master/Project/trans/data/raw_data/annotation/Homo_sapiens.GRCh38.109.gtf.gz\n",
      "\t[Paraments]tab_level: 0\n",
      "[2023-08-07 15:00:45]get_biotype_info finished.\n",
      "\t[result]the counts of gene updated biotype: 15894\n",
      "\t[result]the counts of transcript updated biotype: 23365\n"
     ]
    },
    {
     "data": {
      "text/plain": [
       "True"
      ]
     },
     "execution_count": 21,
     "metadata": {},
     "output_type": "execute_result"
    }
   ],
   "source": [
    "# 读取基因组注释文件以补充gene/transcript的biotype信息\n",
    "biotype_dict = def_function.get_biotype_info(annotation_file_location=input_gene_annotation_file,\n",
    "                                             tab_level=0)\n",
    "def_function.add_biotype_info(total, biotype_dict,\n",
    "                              tab_level=0)"
   ]
  },
  {
   "cell_type": "code",
   "execution_count": 22,
   "metadata": {},
   "outputs": [],
   "source": [
    "# 计算每个transcript在每个样本中的相对表达值\n",
    "total.computeRelativeExpression()"
   ]
  },
  {
   "cell_type": "code",
   "execution_count": 23,
   "metadata": {},
   "outputs": [
    {
     "name": "stdout",
     "output_type": "stream",
     "text": [
      "\n",
      "\n",
      "[Function]save_df start.\n",
      "\t[Time]2023-08-07 15:00:46\n",
      "\t[Paraments]tab_level: 0\n",
      "[2023-08-07 15:00:50]save_df finished.\n"
     ]
    }
   ],
   "source": [
    "# 保存数据文件\n",
    "df = def_function.save_df(total, output_df_filename,\n",
    "                          tab_level=0)\n",
    "with open(output_pickle_filename, 'wb') as file:\n",
    "    pickle.dump(total, file)"
   ]
  },
  {
   "cell_type": "markdown",
   "metadata": {},
   "source": [
    "---\n",
    "\n",
    "调试"
   ]
  },
  {
   "cell_type": "markdown",
   "metadata": {},
   "source": [
    "调试\n",
    "\n",
    "---"
   ]
  }
 ],
 "metadata": {
  "kernelspec": {
   "display_name": "Python 3",
   "language": "python",
   "name": "python3"
  },
  "language_info": {
   "codemirror_mode": {
    "name": "ipython",
    "version": 3
   },
   "file_extension": ".py",
   "mimetype": "text/x-python",
   "name": "python",
   "nbconvert_exporter": "python",
   "pygments_lexer": "ipython3",
   "version": "3.10.6"
  },
  "orig_nbformat": 4
 },
 "nbformat": 4,
 "nbformat_minor": 2
}
