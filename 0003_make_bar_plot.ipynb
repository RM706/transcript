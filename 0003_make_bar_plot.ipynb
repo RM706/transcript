{
 "cells": [
  {
   "cell_type": "code",
   "execution_count": 1,
   "metadata": {},
   "outputs": [],
   "source": [
    "import pandas\n",
    "import plotly.express as px\n",
    "import plotly.graph_objects as go\n",
    "import re\n",
    "import argparse\n",
    "import time\n",
    "import def_function"
   ]
  },
  {
   "cell_type": "code",
   "execution_count": 2,
   "metadata": {},
   "outputs": [],
   "source": [
    "__version__ = \"V3.3(Editor) 2023-08-07\""
   ]
  },
  {
   "cell_type": "code",
   "execution_count": 3,
   "metadata": {},
   "outputs": [],
   "source": [
    "# 前置参数-debug\n",
    "gene_biotype_list = [\"protein_coding\", \"non_protein_coding\", \"un_classified\"]\n",
    "absolute_path = False\n",
    "file_path = \"F:/OneDrive/Master/Project/trans/data/\"\n",
    "input_filename = \"0002_TSS_TES.tsv\"\n",
    "output_plot_path = \"0003_plot/\""
   ]
  },
  {
   "cell_type": "code",
   "execution_count": null,
   "metadata": {},
   "outputs": [],
   "source": [
    "# 前置参数\n",
    "parser = argparse.ArgumentParser()\n",
    "parser.add_argument(\"--gene_biotype_list\", dest=\"gene_biotype_list\", required=False, nargs='*', default=[\"protein_coding\", \"non_protein_coding\", \"un_classified\"], help='=[\"protein_coding\", \"non_protein_coding\", \"un_classified\"]')\n",
    "parser.add_argument(\"--absolute_path\", dest=\"absolute_path\", required=False, action=\"store_true\", help=\"use absolute file path\")\n",
    "parser.add_argument(\"--file_path\", dest=\"file_path\", required=False, type=str, default=\"./\", help=\"=./,\\t the path of data directory\")\n",
    "parser.add_argument(\"--input_filename\", dest=\"input_filename\", required=False, type=str, default=\"0002_TSS_TES.tsv\", help=\"=\\\"0002_TSS_TES.tsv\\\",\\t the output file name of 0002.py\")\n",
    "parser.add_argument(\"--output_plot_path\", dest=\"output_plot_path\", required=False, type=str, default=\"0003_plot/\", help=\"0003_plot/,\\t the output plot\")\n",
    "\n",
    "args = parser.parse_args()\n",
    "gene_biotype_list = args.gene_biotype_list\n",
    "absolute_path = args.absolute_path\n",
    "file_path = args.file_path\n",
    "input_filename = args.input_filename\n",
    "output_plot_path = args.output_plot_path"
   ]
  },
  {
   "cell_type": "code",
   "execution_count": null,
   "metadata": {},
   "outputs": [],
   "source": [
    "# print paraments\n",
    "print('\\n')\n",
    "print(\"[Script]{}\".format(__file__))\n",
    "print(\"[Version]{}\".format(__version__))\n",
    "print(\"[Date]{}\".format(time.strftime(\"%Y-%m-%d %H:%M:%S\", time.localtime(time.time()))))\n",
    "print(\"[Paraments]gene_biotype_list: {}\".format(gene_biotype_list))\n",
    "print(\"[Paraments]input_filename: {}\".format(input_filename))\n",
    "print(\"[Paraments]output_plot_path: {}\".format(output_plot_path))\n",
    "print('\\n')"
   ]
  },
  {
   "cell_type": "code",
   "execution_count": 4,
   "metadata": {},
   "outputs": [],
   "source": [
    "# 补全路径\n",
    "if absolute_path is False:\n",
    "    input_filename = \"{}{}\".format(file_path, input_filename)\n",
    "    output_plot_path = \"{}{}\".format(file_path, output_plot_path)"
   ]
  },
  {
   "cell_type": "code",
   "execution_count": 5,
   "metadata": {},
   "outputs": [],
   "source": [
    "@def_function.log\n",
    "def integrateGeneBiotype(df, tab_level=0):\n",
    "    \"\"\"\n",
    "    change:\n",
    "        1.汇总每一个细胞系中的所有geneBiotype的四种类型gene的计数\n",
    "        2.对每一个细胞系生成一行数据, 记录相应的加和\n",
    "    \"\"\"\n",
    "    df_group = df.groupby(\"cellLine\")\n",
    "    for cellLine in df_group.groups.keys():\n",
    "        # 遍历每一个cellLine\n",
    "        temp_df = df_group.get_group(cellLine)\n",
    "        temp_df = [cellLine, \"gene\", \"all\",\n",
    "                   temp_df[\"TSS-PAS\"].sum(), temp_df[\"TSS-APA\"].sum(),\n",
    "                   temp_df[\"ATSS-PAS\"].sum(), temp_df[\"ATSS-APA\"].sum()]\n",
    "        # 将数据格式化为表格\n",
    "        temp_df = pandas.DataFrame([temp_df],\n",
    "                                    columns=[\"cellLine\", \"geneOrTranscript\", \"geneBiotype\",\n",
    "                                             \"TSS-PAS\", \"TSS-APA\", \"ATSS-PAS\", \"ATSS-APA\"])\n",
    "        # 将新的数据添加到原df中\n",
    "        df = pandas.concat([df, temp_df], axis=0, ignore_index=True)\n",
    "\n",
    "    return df\n",
    "\n",
    "\n",
    "def make_bar_plot(TSS_APA, ATSS_APA):\n",
    "    \"\"\"\n",
    "    \"\"\"\n",
    "    TSS_APA = float(TSS_APA)\n",
    "    ATSS_APA = float(ATSS_APA)\n",
    "    TSS_PAS = 1 - TSS_APA\n",
    "    ATSS_PAS = 1 - ATSS_APA\n",
    "\n",
    "    # 准备基础画布\n",
    "    fig = go.Figure()\n",
    "\n",
    "    # 准备轨迹\n",
    "    fig = fig.add_trace(go.Bar(x=[\"ATSS\", \"Single TSS\"],\n",
    "                               y=[ATSS_APA, TSS_APA],\n",
    "                               name=\"APA\",\n",
    "                               width=0.5,\n",
    "                               marker={\"color\": \"purple\",\n",
    "                                       \"line\": {\"color\": \"black\",\n",
    "                                                \"width\": 0.5},\n",
    "                                        }\n",
    "                               ))\n",
    "    fig = fig.add_trace(go.Bar(x=[\"ATSS\", \"Single TSS\"],\n",
    "                               y=[ATSS_PAS, TSS_PAS],\n",
    "                               name=\"Single<br>PAS\",\n",
    "                               width=0.5,\n",
    "                               marker={\"color\": \"grey\",\n",
    "                                       \"line\": {\"color\": \"black\",\n",
    "                                                \"width\": 0.5},\n",
    "                                       }\n",
    "                               ))\n",
    "\n",
    "    # 设置画布\n",
    "    layout = {\"width\": 400, \"height\": 300,\n",
    "              \"margin\": {'l':0, 'r':0, 't':0, 'b':0},\n",
    "              \"barmode\": \"stack\",\n",
    "              \"font\": {\"family\": \"Arial\",\n",
    "                       \"color\": \"black\",\n",
    "                       \"size\": 12},\n",
    "              \"xaxis\": {\"linecolor\": \"black\",\n",
    "                        \"range\": [-0.5,1.5],\n",
    "                        \"tickfont\": {\"size\": 12,\n",
    "                                     \"family\": \"Arial\",\n",
    "                                     \"color\": \"black\"},\n",
    "                                },\n",
    "              \"yaxis_title\": \"Gene proportion\",\n",
    "              \"yaxis\": {\"titlefont\": {\"size\":12,\n",
    "                                      \"color\": \"black\",\n",
    "                                      \"family\": \"Arial\"},\n",
    "                        \"dtick\": 0.5,\n",
    "                        \"showgrid\": False,\n",
    "                        \"showline\": True,\n",
    "                        \"linecolor\": \"black\",\n",
    "                        \"tickfont\": {\"size\": 12,\n",
    "                                     \"family\": \"Arial\",\n",
    "                                     \"color\": \"black\"}\n",
    "                        },\n",
    "              \"plot_bgcolor\": \"white\",\n",
    "              \"bargap\": 0, \"bargroupgap\": 0,\n",
    "              }\n",
    "    fig = fig.update_layout(layout)\n",
    "\n",
    "    return fig\n",
    "\n"
   ]
  },
  {
   "cell_type": "code",
   "execution_count": 6,
   "metadata": {},
   "outputs": [
    {
     "name": "stdout",
     "output_type": "stream",
     "text": [
      "\n",
      "\n",
      "[Function]integrateGeneBiotype start.\n",
      "\t[Time]2023-08-17 10:39:49\n",
      "\t[Paraments]df: <...>\n",
      "[2023-08-17 10:39:49]integrateGeneBiotype finished.\n",
      "[2023-08-17 10:39:51]All blocks finished.\n"
     ]
    }
   ],
   "source": [
    "if __name__ == \"__main__\":\n",
    "    # load file\n",
    "    df = pandas.read_csv(input_filename, sep='\\t')\n",
    "\n",
    "    # only retain gene info\n",
    "    df = df.loc[df[\"geneOrTranscript\"]==\"gene\", :]\n",
    "\n",
    "    # integrate gene biotype\n",
    "    df = integrateGeneBiotype(df=df)\n",
    "\n",
    "    # ready for analysis\n",
    "    df[\"APA/ATSS\"] = df[\"ATSS-APA\"] / (df[\"ATSS-APA\"] + df[\"ATSS-PAS\"])\n",
    "    df[\"APA/TSS\"] = df[\"TSS-APA\"] / (df[\"TSS-APA\"] + df[\"TSS-PAS\"])\n",
    "\n",
    "    # get cell_line info\n",
    "    cellLineList = list(set(df[\"cellLine\"]))\n",
    "\n",
    "    # make plot\n",
    "    for cellLine in set(df[\"cellLine\"]):\n",
    "        for geneBiotype in set(df[\"geneBiotype\"]):\n",
    "            temp = df.query(\"cellLine==@cellLine & geneBiotype==@geneBiotype\")\n",
    "            fig = make_bar_plot(TSS_APA=temp[\"APA/TSS\"], ATSS_APA=temp[\"APA/ATSS\"])\n",
    "            fig.write_image(\"{}0003_{}_{}.svg\".format(output_plot_path, cellLine, geneBiotype))\n",
    "    \n",
    "    print(\"[{}]All blocks finished.\".format(time.strftime(\"%Y-%m-%d %H:%M:%S\", time.localtime(time.time()))))"
   ]
  },
  {
   "cell_type": "markdown",
   "metadata": {},
   "source": [
    "---\n",
    "\n",
    "调试"
   ]
  },
  {
   "cell_type": "markdown",
   "metadata": {},
   "source": [
    "调试\n",
    "\n",
    "---"
   ]
  }
 ],
 "metadata": {
  "kernelspec": {
   "display_name": "Python 3",
   "language": "python",
   "name": "python3"
  },
  "language_info": {
   "codemirror_mode": {
    "name": "ipython",
    "version": 3
   },
   "file_extension": ".py",
   "mimetype": "text/x-python",
   "name": "python",
   "nbconvert_exporter": "python",
   "pygments_lexer": "ipython3",
   "version": "3.10.6"
  },
  "orig_nbformat": 4
 },
 "nbformat": 4,
 "nbformat_minor": 2
}
