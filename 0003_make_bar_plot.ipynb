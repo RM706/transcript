{
 "cells": [
  {
   "cell_type": "code",
   "execution_count": 1,
   "metadata": {},
   "outputs": [],
   "source": [
    "import pandas\n",
    "import plotly.express as px\n",
    "import re\n",
    "import argparse\n",
    "import time"
   ]
  },
  {
   "cell_type": "code",
   "execution_count": 4,
   "metadata": {},
   "outputs": [],
   "source": [
    "__version__ = \"V1.2(Editor) 2023-07-12\""
   ]
  },
  {
   "cell_type": "code",
   "execution_count": 2,
   "metadata": {},
   "outputs": [],
   "source": [
    "# 前置参数-debug\n",
    "absolute_path = False\n",
    "file_path = \"F:/OneDrive/Master/Project/trans/data/\"\n",
    "input_filename = \"0002_TSS_TES.tsv\""
   ]
  },
  {
   "cell_type": "code",
   "execution_count": null,
   "metadata": {},
   "outputs": [],
   "source": [
    "# 前置参数\n",
    "parser = argparse.ArgumentParser()\n",
    "parser.add_argument(\"--absolute_path\", dest=\"absolute_path\", required=False, action=\"store_true\", help=\"use absolute file path\")\n",
    "parser.add_argument(\"--file_path\", dest=\"file_path\", required=False, type=str, default=\"./\", help=\"=./,\\t the path of data directory\")\n",
    "parser.add_argument(\"--input_filename\", dest=\"input_filename\", required=False, type=str, default=\"0002_TSS_TES.tsv\", help=\"=\\\"0002_TSS_TES.tsv\\\",\\t the output file name of 0002.py\")\n",
    "\n",
    "args = parser.parse_args()\n",
    "absolute_path = args.absolute_path\n",
    "file_path = args.file_path\n",
    "input_filename = args.input_filename"
   ]
  },
  {
   "cell_type": "code",
   "execution_count": null,
   "metadata": {},
   "outputs": [],
   "source": [
    "# print paraments\n",
    "print('\\n')\n",
    "print(\"[Script]{}\".format(__file__))\n",
    "print(\"[Version]{}\".format(__version__))\n",
    "print(\"[Date]{}\".format(time.strftime(\"%Y-%m-%d %H:%M:%S\", time.localtime(time.time()))))\n",
    "print(\"[Paraments]input_filename: {}\".format(input_filename))\n",
    "print('\\n')"
   ]
  },
  {
   "cell_type": "code",
   "execution_count": 3,
   "metadata": {},
   "outputs": [],
   "source": [
    "if absolute_path is False:\n",
    "    input_filename = \"{}{}\".format(file_path, input_filename)"
   ]
  },
  {
   "cell_type": "code",
   "execution_count": 116,
   "metadata": {},
   "outputs": [],
   "source": [
    "def get_bar_plot(df, disease_type, g_or_t):\n",
    "    df = df\n",
    "    disease_type = disease_type\n",
    "    g_or_t = g_or_t\n",
    "\n",
    "    x_type = \"{}_{}\".format(disease_type, g_or_t)\n",
    "    y_title = \"{} proportion\".format(g_or_t)\n",
    "\n",
    "    temp_df = pandas.DataFrame(index=range(0,4),columns=[\"5' type\", \"3' type\", y_title])\n",
    "\n",
    "    temp_df.at[0,\"5' type\"] = \"ATSS\"\n",
    "    temp_df.at[1,\"5' type\"] = \"ATSS\"\n",
    "    temp_df.at[2,\"5' type\"] = \"Single TSS\"\n",
    "    temp_df.at[3,\"5' type\"] = \"Single TSS\"\n",
    "\n",
    "    temp_df.at[0,\"3' type\"] = \"APA\"\n",
    "    temp_df.at[1,\"3' type\"] = \"Single PAS\"\n",
    "    temp_df.at[2,\"3' type\"] = \"APA\"\n",
    "    temp_df.at[3,\"3' type\"] = \"Single PAS\"\n",
    "\n",
    "    temp_df.at[0,\"{} proportion\".format(g_or_t)] = df.at[x_type, \"APA/ATSS\"]\n",
    "    temp_df.at[1,\"{} proportion\".format(g_or_t)] = 1-df.at[x_type, \"APA/ATSS\"]\n",
    "    temp_df.at[2,\"{} proportion\".format(g_or_t)] = df.at[x_type, \"APA/TSS\"]\n",
    "    temp_df.at[3,\"{} proportion\".format(g_or_t)] = 1-df.at[x_type, \"APA/TSS\"]\n",
    "\n",
    "    fig = px.bar(temp_df, x=\"5' type\", y=y_title, color=\"3' type\", title=disease_type)\n",
    "\n",
    "    return fig"
   ]
  },
  {
   "cell_type": "code",
   "execution_count": 7,
   "metadata": {},
   "outputs": [],
   "source": [
    "# load file\n",
    "df = pandas.read_csv(input_filename, sep='\\t', index_col=0)"
   ]
  },
  {
   "cell_type": "code",
   "execution_count": 11,
   "metadata": {},
   "outputs": [],
   "source": [
    "# ready for analysis\n",
    "df[\"APA/ATSS\"] = df[\"ATSS_APA\"] / (df[\"ATSS_APA\"] + df[\"ATSS_PAS\"])\n",
    "df[\"APA/TSS\"] = df[\"TSS_APA\"] / (df[\"TSS_APA\"] + df[\"TSS_PAS\"])"
   ]
  },
  {
   "cell_type": "code",
   "execution_count": 105,
   "metadata": {},
   "outputs": [],
   "source": [
    "disease_list = list(set(['_'.join(re.split(pattern='_', string=x)[0:-1]) for x in df.index.to_list()]))"
   ]
  },
  {
   "cell_type": "code",
   "execution_count": 117,
   "metadata": {},
   "outputs": [],
   "source": [
    "for i in disease_list:\n",
    "    for g_or_t in [\"gene\", \"transcript\"]:\n",
    "        fig = get_bar_plot(df, i, g_or_t)\n",
    "        fig.write_image(\"{}0003_{}_{}.png\".format(file_path, i, g_or_t))"
   ]
  }
 ],
 "metadata": {
  "kernelspec": {
   "display_name": "Python 3",
   "language": "python",
   "name": "python3"
  },
  "language_info": {
   "codemirror_mode": {
    "name": "ipython",
    "version": 3
   },
   "file_extension": ".py",
   "mimetype": "text/x-python",
   "name": "python",
   "nbconvert_exporter": "python",
   "pygments_lexer": "ipython3",
   "version": "3.10.6"
  },
  "orig_nbformat": 4
 },
 "nbformat": 4,
 "nbformat_minor": 2
}
